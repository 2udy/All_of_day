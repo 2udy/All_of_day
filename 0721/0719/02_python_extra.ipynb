{
 "cells": [
  {
   "cell_type": "markdown",
   "metadata": {},
   "source": [
    "어떠한 것을 반복하며(반복문), 특정한 조건일 때(조건문), 어딘가에 기록하는 것"
   ]
  },
  {
   "cell_type": "markdown",
   "metadata": {},
   "source": [
    "# Extra\n",
    "\n",
    "> 데이터 & 제어문"
   ]
  },
  {
   "cell_type": "markdown",
   "metadata": {},
   "source": [
    "## 갯수 구하기\n",
    "\n",
    "> 주어진 리스트의 요소는 학생 이름으로 구성되어 있다. 학생들의 수를 출력하시오.\n",
    "\n",
    "---\n",
    "\n",
    "```\n",
    "[출력 예시]\n",
    "3\n",
    "```"
   ]
  },
  {
   "cell_type": "code",
   "execution_count": 1,
   "metadata": {
    "ExecuteTime": {
     "end_time": "2020-07-20T07:21:43.556594Z",
     "start_time": "2020-07-20T07:21:43.553351Z"
    }
   },
   "outputs": [
    {
     "name": "stdout",
     "output_type": "stream",
     "text": [
      "3\n"
     ]
    }
   ],
   "source": [
    "students = ['김철수', '이영희', '조민지']\n",
    "\n",
    "\n",
    "# sol1. 내장함수 활용(len)\n",
    "\n",
    "print(len(students))\n",
    "\n",
    "\n",
    "# sol2. 반복문 활용\n",
    "\n",
    "result = 0    #1. 바를 정 변수 초기화\n",
    "\n",
    "for student in students:   #2. 학생들을 한 명씩 불러서\n",
    "    result = result +1     #3. 바를 정을 그리기\n",
    "\n",
    "print(result)     #4. 바를 정 결과 출력\n"
   ]
  },
  {
   "cell_type": "markdown",
   "metadata": {},
   "source": [
    "## 득표수 구하기\n",
    "\n",
    "> 주어진 리스트는 반장 선거 투표 결과이다. 이영희의 총 득표수를 출력하시오.\n",
    "\n",
    "---\n",
    "\n",
    "```\n",
    "[출력 예시]\n",
    "4\n",
    "```"
   ]
  },
  {
   "cell_type": "code",
   "execution_count": 2,
   "metadata": {},
   "outputs": [
    {
     "name": "stdout",
     "output_type": "stream",
     "text": [
      "4\n"
     ]
    }
   ],
   "source": [
    "students = ['이영희', '김철수', '이영희', '조민지', '김철수', '조민지', '이영희', '이영희']\n",
    "\n",
    "\n",
    "# sol1. 매서드활용(count)\n",
    "\n",
    "print(students.count('이영희'))\n",
    "\n",
    "\n",
    "# sol2. 반복문 활용\n",
    "\n",
    "result = 0    #1. 바를 정 변수 초기화\n",
    "\n",
    "for student in students:   #2. 학생들을 한 명씩 불러서\n",
    "    if student == '이영희'  #3. 만약 해당 학생이 이영희면\n",
    "        result = result +1     #4. 바를 정을 그린다\n",
    "\n",
    "print(result)     #5. 바를 정 결과 출력\n"
   ]
  },
  {
   "cell_type": "markdown",
   "metadata": {},
   "source": [
    "## 최댓값 구하기\n",
    "\n",
    "> 주어진 리스트의 요소 중에서 최댓값을 출력하시오.\n",
    "\n",
    "---\n",
    "```\n",
    "[출력 예시]\n",
    "22\n",
    "```"
   ]
  },
  {
   "cell_type": "code",
   "execution_count": 11,
   "metadata": {},
   "outputs": [
    {
     "name": "stdout",
     "output_type": "stream",
     "text": [
      "22\n",
      "22\n",
      "22\n",
      "22\n"
     ]
    }
   ],
   "source": [
    "numbers = [7, 10, 22, 4, 3, 17]\n",
    "\n",
    "\n",
    "# sol1. 내장함수 활용(max)\n",
    "\n",
    "print(max(numbers))\n",
    "\n",
    "\n",
    "# sol2. 정렬\n",
    "\n",
    "print(sorted(numbers)[-1])\n",
    "\n",
    "\n",
    "\n",
    "# sol3-1. 반복문 _ 내 풀이\n",
    "\n",
    "result = 0    #1. 기준 값 초기화\n",
    "\n",
    "for number in numbers:   # 2. 숫자를 하나씩 불러서\n",
    "    if number > result:  # 3. 기준값보다 크다면   \n",
    "        result = number  # 4. 기준 값을 갱신한다.\n",
    "\n",
    "print(result)     #5. 결과 출력\n",
    "\n",
    "\n",
    "# sol3-2. 반복문 _ 교수님 풀이 _초기화\n",
    "max_value = numbers[0]       #1. 기준값을 첫번째 숫자로 설정\n",
    "\n",
    "for number in numbers:      #2. 숫자를 하나씩 불러서\n",
    "    if number > max_value:   #3. 기준값보다 숫자가 크다면\n",
    "        max_value = number  #4. 기준 값을 교체한다.\n",
    "\n",
    "print(max_value)            #5. 결과 출력\n"
   ]
  },
  {
   "cell_type": "markdown",
   "metadata": {},
   "source": [
    "- 기준값 설정 방법\n",
    "    1. 주어진 값의 첫번째 값으로 초기화\n",
    "    2. float('-inf')_음의 무한대 또는 float('inf')_양의 무한대 로 초기화\n"
   ]
  },
  {
   "cell_type": "markdown",
   "metadata": {},
   "source": [
    "## 최솟값 구하기\n",
    "\n",
    "> 주어진 리스트의 요소 중에서 최솟값을 출력하시오.\n",
    "---\n",
    "```\n",
    "[출력 예시]\n",
    "3\n",
    "```"
   ]
  },
  {
   "cell_type": "code",
   "execution_count": 4,
   "metadata": {},
   "outputs": [
    {
     "name": "stdout",
     "output_type": "stream",
     "text": [
      "3\n"
     ]
    }
   ],
   "source": [
    "numbers = [7, 10, 22, 4, 3, 17]\n",
    "\n",
    "# 아래에 코드를 작성하시오.\n",
    "\n",
    "print(min(numbers))"
   ]
  },
  {
   "cell_type": "markdown",
   "metadata": {},
   "source": [
    "## 최댓값과 등장 횟수 구하기\n",
    "\n",
    "> 주어진 리스트의 요소 중에서 최댓값과 등장 횟수를 출력하시오.\n",
    "\n",
    "---\n",
    "\n",
    "```\n",
    "[출력 예시]\n",
    "22 3\n",
    "```"
   ]
  },
  {
   "cell_type": "code",
   "execution_count": 5,
   "metadata": {
    "ExecuteTime": {
     "end_time": "2020-07-20T07:14:08.319167Z",
     "start_time": "2020-07-20T07:14:08.316606Z"
    }
   },
   "outputs": [
    {
     "name": "stdout",
     "output_type": "stream",
     "text": [
      "22\n",
      "3\n"
     ]
    }
   ],
   "source": [
    "numbers = [7, 10, 22, 7, 22, 22]\n",
    "\n",
    "# 내장함수 활용\n",
    "\n",
    "print(max(numbers))\n",
    "print(numbers.count(max(numbers)))\n",
    "\n",
    "# sol2-1. 반복문 활용 _내 풀이\n",
    "max_value = numbers[0]       # 1. 기준값을 첫번째 숫자로 설정\n",
    "count = 0                    # 2. \n",
    "\n",
    "for number in numbers:       # 3. 주어진 리스트 순회\n",
    "    if number > max_value:   # 4. 기준값보다 숫자가 크다면\n",
    "        max_value = number   # 5. 기준 값을 교체한다.\n",
    "        \n",
    "for number in numbers:       # 2. 숫자를 하나씩 불러서\n",
    "    if number == max_value:\n",
    "        count = count + 1\n",
    "\n",
    "print(max_value)            #5. 결과 출력\n",
    "print(count)\n",
    "\n",
    "#\n",
    "max_value = numbers[0]     \n",
    "count = 0                   \n",
    "\n",
    "for number in numbers:        # 1. 주어진 리스트 순회\n",
    "    if number > max_value:    # 2. 기준값보다 숫자가 크다면\n",
    "        max_value = number    # 3. 기준 값을 교체한다.\n",
    "        count =1              # 4. max_value가 한번 등장한 것이므로 count값을 1로 설정\n",
    "    elif number == max_value: # 5. 같을 때\n",
    "        count = count + 1     # 6. count 추가\n",
    "\n",
    "print(max_value, count)"
   ]
  },
  {
   "cell_type": "markdown",
   "metadata": {},
   "source": [
    "## 5의 개수 구하기\n",
    "\n",
    "> 주어진 리스트의 요소 중에서 5의 개수를 출력하시오.\n",
    "---\n",
    "```\n",
    "[출력 예시]\n",
    "3\n",
    "```"
   ]
  },
  {
   "cell_type": "code",
   "execution_count": 6,
   "metadata": {},
   "outputs": [
    {
     "name": "stdout",
     "output_type": "stream",
     "text": [
      "3\n"
     ]
    }
   ],
   "source": [
    "numbers = [7, 17, 10, 5, 4, 3, 17, 5, 2, 5]\n",
    "\n",
    "# 아래에 코드를 작성하시오.\n",
    "\n",
    "print(numbers.count(5))"
   ]
  },
  {
   "cell_type": "markdown",
   "metadata": {},
   "source": [
    "## 'a'가 싫어\n",
    "\n",
    "\n",
    "> 입력으로 짧은 영단어 word가 주어질 때, 해당 단어에서 'a'를 모두 제거한 결과를 출력하시오.\n",
    "\n",
    "---\n",
    "```\n",
    "[입력 예시]\n",
    "apple\n",
    "\n",
    "[출력 예시]\n",
    "pple\n",
    "```"
   ]
  },
  {
   "cell_type": "code",
   "execution_count": 13,
   "metadata": {},
   "outputs": [
    {
     "name": "stdout",
     "output_type": "stream",
     "text": [
      "apple\n",
      "pple\n",
      "pple\n"
     ]
    }
   ],
   "source": [
    "word = input()\n",
    "# string은 시퀀스!!!!!\n",
    "\n",
    "# sol1 구글링 결과_메소드 활용\n",
    "\n",
    "disallowed_characters = \"a\"\n",
    "\n",
    "for character in disallowed_characters:\n",
    "    word = word.replace(character, \"\")\n",
    "    \n",
    "\n",
    "#sol2 내장함수\n",
    "\n",
    "word = word.replace('a','')\n",
    "\n",
    "print(word)\n",
    "\n",
    "\n",
    "# sol3 교수님\n",
    "    # 문제 속 '제거'라는 단어를 기록의 관점으로 보면, 'a가 아닐 때만 기록'\n",
    "\n",
    "result = ''\n",
    "    \n",
    "for char in word:                 # 1. 문자열 탐색\n",
    "    if char != 'a':               # 2. a가 아니면,\n",
    "        result = result + char    # 3. 기록한다\n",
    "\n",
    "print(result)\n"
   ]
  },
  {
   "cell_type": "markdown",
   "metadata": {},
   "source": [
    "## 단어 뒤집기\n",
    "\n",
    "> 입력으로 짧은 영어단어 word가 주어질 때, 해당 단어를 역순으로 뒤집은 결과를 출력하시오.\n",
    "\n",
    "---\n",
    "```\n",
    "[입력 예시]\n",
    "apple\n",
    "\n",
    "[출력 예시]\n",
    "elppa\n",
    "```"
   ]
  },
  {
   "cell_type": "code",
   "execution_count": 14,
   "metadata": {},
   "outputs": [
    {
     "name": "stdout",
     "output_type": "stream",
     "text": [
      "apple\n",
      "elppa\n",
      "elppa\n"
     ]
    }
   ],
   "source": [
    "word = input()\n",
    "\n",
    "# 슬라이싱\n",
    "print(word[::-1])\n",
    "\n",
    "\n",
    "# sol2. 교수님\n",
    "    # 반복과 기록의 관점으로 보면, '뒤집은'은 앞에 기록\n",
    "    \n",
    "result = ''                       # 0. 초기값 설정\n",
    "    \n",
    "for char in word:                 # 1. 문자열을 순회하며\n",
    "    result = char + result        # 2. 앞에 기록한다\n",
    "\n",
    "print(result)\n"
   ]
  }
 ],
 "metadata": {
  "kernelspec": {
   "display_name": "Python 3 (ipykernel)",
   "language": "python",
   "name": "python3"
  },
  "language_info": {
   "codemirror_mode": {
    "name": "ipython",
    "version": 3
   },
   "file_extension": ".py",
   "mimetype": "text/x-python",
   "name": "python",
   "nbconvert_exporter": "python",
   "pygments_lexer": "ipython3",
   "version": "3.9.13"
  },
  "toc": {
   "base_numbering": 1,
   "nav_menu": {},
   "number_sections": true,
   "sideBar": true,
   "skip_h1_title": false,
   "title_cell": "Table of Contents",
   "title_sidebar": "Contents",
   "toc_cell": false,
   "toc_position": {},
   "toc_section_display": true,
   "toc_window_display": false
  },
  "vscode": {
   "interpreter": {
    "hash": "abcd147f2b42f4e5dbb71dbd313f7d6f5a616e64a6f6f3be3a99628d5fc41efe"
   }
  }
 },
 "nbformat": 4,
 "nbformat_minor": 4
}
